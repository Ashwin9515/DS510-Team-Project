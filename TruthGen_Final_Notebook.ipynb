{
 "cells": [
  {
   "cell_type": "markdown",
   "id": "2bc3e476",
   "metadata": {},
   "source": [
    "# TruthGen — Fake News Detection & Correction\n",
    "\n",
    "**Authors:** Reema Ramachandra Kadechkar, Keerthi Turakapalli, Ashwin Shastry Paturi  \n",
    "**Course:** DS510_03_IN: Artificial Intelligence for Data Science  \n",
    "**Date:** 2025-09-03\n",
    "\n",
    "This notebook consolidates the complete pipeline for **fake news detection** (TF‑IDF + Logistic Regression)\n",
    "and **correction** (Generative AI via Gemini) into a single, polished deliverable suitable for final submission.\n",
    "\n",
    "**What you can do here:**\n",
    "1. Load and combine the `Fake.csv` & `True.csv` datasets\n",
    "2. Preprocess text (normalize, clean, tokenize, remove stopwords, lemmatize)\n",
    "3. Convert text → features with TF‑IDF (max_features=5000)\n",
    "4. Train and evaluate a Logistic Regression baseline (Accuracy, Precision, Recall, F1, Confusion Matrix)\n",
    "5. (Optional) Run the **Correction** stage to rewrite predicted‑fake articles using **Gemini** (Vertex AI)\n",
    "\n",
    "> **Tip:** This notebook runs locally, but the **Correction** stage is designed for **Google Colab** + **Vertex AI**."
   ]
  },
  {
   "cell_type": "markdown",
   "id": "af259f38",
   "metadata": {},
   "source": [
    "## 1) Setup & Imports"
   ]
  },
  {
   "cell_type": "code",
   "execution_count": 1,
   "id": "21102efd",
   "metadata": {},
   "outputs": [
    {
     "name": "stdout",
     "output_type": "stream",
     "text": [
      "Note: you may need to restart the kernel to use updated packages.\n"
     ]
    }
   ],
   "source": [
    "%pip install -q nltk scikit-learn matplotlib pandas"
   ]
  },
  {
   "cell_type": "code",
   "execution_count": 2,
   "id": "e1286e5d",
   "metadata": {},
   "outputs": [],
   "source": [
    "import os, re\n",
    "import pandas as pd\n",
    "import numpy as np\n",
    "import matplotlib.pyplot as plt\n",
    "\n",
    "from sklearn.model_selection import train_test_split\n",
    "from sklearn.feature_extraction.text import TfidfVectorizer\n",
    "from sklearn.linear_model import LogisticRegression\n",
    "from sklearn.metrics import (\n",
    "    accuracy_score, precision_score, recall_score,\n",
    "    f1_score, confusion_matrix, classification_report\n",
    ")\n",
    "\n",
    "import nltk\n",
    "from nltk.tokenize import wordpunct_tokenize           \n",
    "from nltk.stem import WordNetLemmatizer, PorterStemmer  \n",
    "\n",
    "RANDOM_SEED = 42\n",
    "np.random.seed(RANDOM_SEED)\n",
    "\n",
    "# Paths in Codespaces\n",
    "FAKE_DATASET = \"/workspaces/DS510-Team-Project/Datasets/Fake.csv\"\n",
    "TRUE_DATASET = \"/workspaces/DS510-Team-Project/Datasets/True.csv\""
   ]
  },
  {
   "cell_type": "markdown",
   "id": "e9295851",
   "metadata": {},
   "source": [
    "## 2) Load & Combine Dataset"
   ]
  },
  {
   "cell_type": "code",
   "execution_count": 3,
   "id": "c853159d",
   "metadata": {},
   "outputs": [
    {
     "name": "stdout",
     "output_type": "stream",
     "text": [
      "Combined shape: (44898, 5)\n"
     ]
    },
    {
     "data": {
      "text/html": [
       "<div>\n",
       "<style scoped>\n",
       "    .dataframe tbody tr th:only-of-type {\n",
       "        vertical-align: middle;\n",
       "    }\n",
       "\n",
       "    .dataframe tbody tr th {\n",
       "        vertical-align: top;\n",
       "    }\n",
       "\n",
       "    .dataframe thead th {\n",
       "        text-align: right;\n",
       "    }\n",
       "</style>\n",
       "<table border=\"1\" class=\"dataframe\">\n",
       "  <thead>\n",
       "    <tr style=\"text-align: right;\">\n",
       "      <th></th>\n",
       "      <th>title</th>\n",
       "      <th>text</th>\n",
       "      <th>subject</th>\n",
       "      <th>date</th>\n",
       "      <th>label</th>\n",
       "    </tr>\n",
       "  </thead>\n",
       "  <tbody>\n",
       "    <tr>\n",
       "      <th>0</th>\n",
       "      <td>Ben Stein Calls Out 9th Circuit Court: Committ...</td>\n",
       "      <td>21st Century Wire says Ben Stein, reputable pr...</td>\n",
       "      <td>US_News</td>\n",
       "      <td>February 13, 2017</td>\n",
       "      <td>0</td>\n",
       "    </tr>\n",
       "    <tr>\n",
       "      <th>1</th>\n",
       "      <td>Trump drops Steve Bannon from National Securit...</td>\n",
       "      <td>WASHINGTON (Reuters) - U.S. President Donald T...</td>\n",
       "      <td>politicsNews</td>\n",
       "      <td>April 5, 2017</td>\n",
       "      <td>1</td>\n",
       "    </tr>\n",
       "    <tr>\n",
       "      <th>2</th>\n",
       "      <td>Puerto Rico expects U.S. to lift Jones Act shi...</td>\n",
       "      <td>(Reuters) - Puerto Rico Governor Ricardo Rosse...</td>\n",
       "      <td>politicsNews</td>\n",
       "      <td>September 27, 2017</td>\n",
       "      <td>1</td>\n",
       "    </tr>\n",
       "    <tr>\n",
       "      <th>3</th>\n",
       "      <td>OOPS: Trump Just Accidentally Confirmed He Le...</td>\n",
       "      <td>On Monday, Donald Trump once again embarrassed...</td>\n",
       "      <td>News</td>\n",
       "      <td>May 22, 2017</td>\n",
       "      <td>0</td>\n",
       "    </tr>\n",
       "    <tr>\n",
       "      <th>4</th>\n",
       "      <td>Donald Trump heads for Scotland to reopen a go...</td>\n",
       "      <td>GLASGOW, Scotland (Reuters) - Most U.S. presid...</td>\n",
       "      <td>politicsNews</td>\n",
       "      <td>June 24, 2016</td>\n",
       "      <td>1</td>\n",
       "    </tr>\n",
       "  </tbody>\n",
       "</table>\n",
       "</div>"
      ],
      "text/plain": [
       "                                               title  \\\n",
       "0  Ben Stein Calls Out 9th Circuit Court: Committ...   \n",
       "1  Trump drops Steve Bannon from National Securit...   \n",
       "2  Puerto Rico expects U.S. to lift Jones Act shi...   \n",
       "3   OOPS: Trump Just Accidentally Confirmed He Le...   \n",
       "4  Donald Trump heads for Scotland to reopen a go...   \n",
       "\n",
       "                                                text       subject  \\\n",
       "0  21st Century Wire says Ben Stein, reputable pr...       US_News   \n",
       "1  WASHINGTON (Reuters) - U.S. President Donald T...  politicsNews   \n",
       "2  (Reuters) - Puerto Rico Governor Ricardo Rosse...  politicsNews   \n",
       "3  On Monday, Donald Trump once again embarrassed...          News   \n",
       "4  GLASGOW, Scotland (Reuters) - Most U.S. presid...  politicsNews   \n",
       "\n",
       "                  date  label  \n",
       "0    February 13, 2017      0  \n",
       "1       April 5, 2017       1  \n",
       "2  September 27, 2017       1  \n",
       "3         May 22, 2017      0  \n",
       "4       June 24, 2016       1  "
      ]
     },
     "execution_count": 3,
     "metadata": {},
     "output_type": "execute_result"
    }
   ],
   "source": [
    "def load_datasets(fake_path=FAKE_DATASET, true_path=TRUE_DATASET, seed=RANDOM_SEED):\n",
    "    fake_df = pd.read_csv(fake_path)\n",
    "    true_df = pd.read_csv(true_path)\n",
    "\n",
    "    fake_df[\"label\"] = 0  # Fake\n",
    "    true_df[\"label\"] = 1  # Real\n",
    "\n",
    "    combined = pd.concat([fake_df, true_df], ignore_index=True)\n",
    "\n",
    "    keep_cols = [c for c in [\"title\", \"text\", \"subject\", \"date\", \"label\"] if c in combined.columns]\n",
    "    combined = combined[keep_cols]\n",
    "\n",
    "    return combined.sample(frac=1.0, random_state=seed).reset_index(drop=True)\n",
    "\n",
    "df = load_datasets()\n",
    "print(\"Combined shape:\", df.shape)\n",
    "df.head()"
   ]
  },
  {
   "cell_type": "markdown",
   "id": "287d5352",
   "metadata": {},
   "source": [
    "## 3) Text Preprocessing"
   ]
  },
  {
   "cell_type": "code",
   "execution_count": 4,
   "id": "5909848d",
   "metadata": {},
   "outputs": [
    {
     "name": "stdout",
     "output_type": "stream",
     "text": [
      "Cleaned sample:\n",
      "                                                body  \\\n",
      "0  Ben Stein Calls Out 9th Circuit Court: Committ...   \n",
      "1  Trump drops Steve Bannon from National Securit...   \n",
      "2  Puerto Rico expects U.S. to lift Jones Act shi...   \n",
      "3  OOPS: Trump Just Accidentally Confirmed He Lea...   \n",
      "4  Donald Trump heads for Scotland to reopen a go...   \n",
      "\n",
      "                                          body_clean  \n",
      "0  ben stein call th circuit court commit coup ta...  \n",
      "1  trump drop steve bannon nation secur council w...  \n",
      "2  puerto rico expect u lift jone act ship restri...  \n",
      "3  oop trump accident confirm leak isra intellig ...  \n",
      "4  donald trump head scotland reopen golf resort ...  \n"
     ]
    }
   ],
   "source": [
    "# ---- Stopwords: try NLTK; fallback to a small built-in set if corpus missing ----\n",
    "try:\n",
    "    from nltk.corpus import stopwords\n",
    "    STOPWORDS = set(stopwords.words(\"english\"))\n",
    "except Exception:\n",
    "    # Minimal, effective fallback (add more if you like)\n",
    "    STOPWORDS = set(\"\"\"\n",
    "a about above after again against all am an and any are as at be because been before being below\n",
    "between both but by could did do does doing down during each few for from further had has have\n",
    "having he he'd he'll he's her here here's hers herself him himself his how how's i i'd i'll i'm i've\n",
    "if in into is it it's its itself let's me more most my myself nor of on once only or other ought our\n",
    "ours ourselves out over own same she she'd she'll she's should so some such than that that's the\n",
    "their theirs them themselves then there there's these they they'd they'll they're they've this those\n",
    "through to too under until up very was we we'd we'll we're we've were what what's when when's where\n",
    "where's which while who who's whom why why's with would you you'd you'll you're you've your yours yourself yourselves\n",
    "\"\"\".split())\n",
    "\n",
    "# ---- Normalizer: prefer WordNet lemmatizer if corpus present; else Porter stemmer (no data needed) ----\n",
    "try:\n",
    "    nltk.data.find(\"corpora/wordnet\")\n",
    "    USE_LEMMA = True\n",
    "    _lemmatizer = WordNetLemmatizer()\n",
    "    _stemmer = None\n",
    "except LookupError:\n",
    "    USE_LEMMA = False\n",
    "    _lemmatizer = None\n",
    "    _stemmer = PorterStemmer()\n",
    "\n",
    "CLEAN_RE = re.compile(r\"[^a-zA-Z\\s]\")\n",
    "\n",
    "def clean_text(s: str) -> str:\n",
    "    \"\"\"Lowercase, keep letters/space, collapse whitespace.\"\"\"\n",
    "    if not isinstance(s, str):\n",
    "        return \"\"\n",
    "    s = s.lower()\n",
    "    s = CLEAN_RE.sub(\" \", s)\n",
    "    return re.sub(r\"\\s+\", \" \", s).strip()\n",
    "\n",
    "def preprocess_text(s: str) -> str:\n",
    "    \"\"\"\n",
    "    Clean → tokenize (wordpunct_tokenize, no 'punkt' needed) → stopword filter →\n",
    "    lemmatize (if wordnet available) else Porter stem (no corpora).\n",
    "    \"\"\"\n",
    "    s = clean_text(s)\n",
    "    tokens = wordpunct_tokenize(s)\n",
    "    tokens = [t for t in tokens if t and t not in STOPWORDS]\n",
    "    if USE_LEMMA:\n",
    "        tokens = [_lemmatizer.lemmatize(t) for t in tokens]\n",
    "    else:\n",
    "        tokens = [_stemmer.stem(t) for t in tokens]\n",
    "    return \" \".join(tokens)\n",
    "\n",
    "def build_body_column(df: pd.DataFrame) -> pd.DataFrame:\n",
    "    out = df.copy()\n",
    "    title = out.get(\"title\", \"\").fillna(\"\")\n",
    "    text  = out.get(\"text\", \"\").fillna(\"\")\n",
    "    out[\"body\"] = (title + \". \" + text).str.strip()\n",
    "    return out\n",
    "\n",
    "# Apply\n",
    "df = build_body_column(df)\n",
    "df[\"body_clean\"] = df[\"body\"].apply(preprocess_text)\n",
    "\n",
    "print(\"Cleaned sample:\")\n",
    "print(df[[\"body\", \"body_clean\"]].head())"
   ]
  },
  {
   "cell_type": "markdown",
   "id": "7e4bf719",
   "metadata": {},
   "source": [
    "## 4) Train/Test Split, TF‑IDF, and Logistic Regression"
   ]
  },
  {
   "cell_type": "code",
   "execution_count": 5,
   "id": "7f8d0def",
   "metadata": {},
   "outputs": [
    {
     "name": "stdout",
     "output_type": "stream",
     "text": [
      "Accuracy : 0.9894\n",
      "Precision: 0.9845\n",
      "Recall   : 0.9935\n",
      "F1-score : 0.9890\n",
      "\n",
      "Classification Report:\n",
      "\n",
      "              precision    recall  f1-score   support\n",
      "\n",
      "           0     0.9940    0.9857    0.9898      4696\n",
      "           1     0.9845    0.9935    0.9890      4284\n",
      "\n",
      "    accuracy                         0.9894      8980\n",
      "   macro avg     0.9892    0.9896    0.9894      8980\n",
      "weighted avg     0.9895    0.9894    0.9894      8980\n",
      "\n"
     ]
    }
   ],
   "source": [
    "from sklearn.pipeline import make_pipeline\n",
    "\n",
    "# Features/labels\n",
    "X = df[\"body_clean\"].fillna(\"\")\n",
    "y = df[\"label\"].astype(int)\n",
    "\n",
    "X_train, X_test, y_train, y_test = train_test_split(\n",
    "    X, y, test_size=0.2, random_state=RANDOM_SEED, stratify=y\n",
    ")\n",
    "\n",
    "model = make_pipeline(\n",
    "    TfidfVectorizer(max_features=5000, ngram_range=(1, 2)),\n",
    "    LogisticRegression(\n",
    "        max_iter=200,\n",
    "        solver=\"liblinear\",\n",
    "        class_weight=\"balanced\",\n",
    "        random_state=RANDOM_SEED\n",
    "    )\n",
    ")\n",
    "\n",
    "model.fit(X_train, y_train)\n",
    "y_pred = model.predict(X_test)\n",
    "\n",
    "acc  = accuracy_score(y_test, y_pred)\n",
    "prec = precision_score(y_test, y_pred, zero_division=0)\n",
    "rec  = recall_score(y_test, y_pred, zero_division=0)\n",
    "f1   = f1_score(y_test, y_pred, zero_division=0)\n",
    "\n",
    "print(f\"Accuracy : {acc:.4f}\")\n",
    "print(f\"Precision: {prec:.4f}\")\n",
    "print(f\"Recall   : {rec:.4f}\")\n",
    "print(f\"F1-score : {f1:.4f}\")\n",
    "print(\"\\nClassification Report:\\n\")\n",
    "print(classification_report(y_test, y_pred, digits=4, zero_division=0))"
   ]
  },
  {
   "cell_type": "markdown",
   "id": "46bf3886",
   "metadata": {},
   "source": [
    "### Confusion Matrix"
   ]
  },
  {
   "cell_type": "code",
   "execution_count": 6,
   "id": "03a2d278",
   "metadata": {},
   "outputs": [
    {
     "data": {
      "image/png": "[encoded data removed]",
      "text/plain": [
       "<Figure size 400x400 with 1 Axes>"
      ]
     },
     "metadata": {},
     "output_type": "display_data"
    }
   ],
   "source": [
    "cm = confusion_matrix(y_test, y_pred)\n",
    "fig, ax = plt.subplots(figsize=(4, 4))\n",
    "im = ax.imshow(cm)\n",
    "ax.set_xlabel(\"Predicted\")\n",
    "ax.set_ylabel(\"True\")\n",
    "ax.set_xticks([0,1])\n",
    "ax.set_yticks([0,1])\n",
    "ax.set_xticklabels([\"Fake (0)\", \"Real (1)\"])\n",
    "ax.set_yticklabels([\"Fake (0)\", \"Real (1)\"])\n",
    "\n",
    "for i in range(cm.shape[0]):\n",
    "    for j in range(cm.shape[1]):\n",
    "        ax.text(j, i, cm[i, j], ha=\"center\", va=\"center\")\n",
    "\n",
    "ax.set_title(\"Confusion Matrix\")\n",
    "plt.show()"
   ]
  },
  {
   "cell_type": "markdown",
   "id": "0fa426f0",
   "metadata": {},
   "source": [
    "## 5) Keyword Inspection (TF‑IDF)"
   ]
  },
  {
   "cell_type": "code",
   "execution_count": 10,
   "id": "5acdb657",
   "metadata": {},
   "outputs": [
    {
     "name": "stdout",
     "output_type": "stream",
     "text": [
      "Top terms for class Real (1):\n",
      "reuter                         22.3479\n",
      "said                           14.8913\n",
      "washington reuter              8.9931\n",
      "presid donald                  5.0847\n",
      "wednesday                      4.5439\n",
      "washington                     4.5107\n",
      "reuter presid                  4.4157\n",
      "tuesday                        4.1670\n",
      "thursday                       3.9090\n",
      "friday                         3.6501\n",
      "nov                            3.4625\n",
      "monday                         3.3102\n",
      "minist                         3.2247\n",
      "presidenti                     3.1666\n",
      "said statement                 3.0398\n",
      "edt                            2.8973\n",
      "told report                    2.8447\n",
      "presid barack                  2.8302\n",
      "republican                     2.7785\n",
      "statement                      2.6318\n",
      "\n",
      "Top terms for class Fake (0):\n",
      "via                            9.8967\n",
      "video                          8.6284\n",
      "us                             6.7078\n",
      "imag                           5.9872\n",
      "read                           5.5370\n",
      "presid trump                   5.5106\n",
      "hillari                        5.1820\n",
      "gop                            5.1731\n",
      "mr                             4.5639\n",
      "featur imag                    4.3883\n",
      "obama                          4.3214\n",
      "america                        3.9456\n",
      "featur                         3.9338\n",
      "watch                          3.9064\n",
      "even                           3.8229\n",
      "sen                            3.7395\n",
      "american                       3.7270\n",
      "wire                           3.6989\n",
      "com                            3.6724\n",
      "imag via                       3.6407\n"
     ]
    }
   ],
   "source": [
    "def top_terms(classifier, vectorizer, class_idx=1, top_k=20):\n",
    "    # For LogisticRegression with liblinear, coef_ shape = (1, n_features) for binary\n",
    "    coefs = classifier.coef_[0]\n",
    "    if class_idx == 0:\n",
    "        weights = -coefs\n",
    "    else:\n",
    "        weights = coefs\n",
    "    indices = np.argsort(weights)[-top_k:][::-1]\n",
    "    terms = np.array(vectorizer.get_feature_names_out())[indices]\n",
    "    return list(zip(terms, weights[indices]))\n",
    "\n",
    "print(\"Top terms for class Real (1):\")\n",
    "for t, w in top_terms(model.named_steps['logisticregression'], model.named_steps['tfidfvectorizer'], class_idx=1, top_k=20):\n",
    "    print(f\"{t:30s} {w:.4f}\")\n",
    "\n",
    "print(\"\\nTop terms for class Fake (0):\")\n",
    "for t, w in top_terms(model.named_steps['logisticregression'], model.named_steps['tfidfvectorizer'], class_idx=0, top_k=20):\n",
    "    print(f\"{t:30s} {w:.4f}\")"
   ]
  },
  {
   "cell_type": "markdown",
   "id": "abdd58bf",
   "metadata": {},
   "source": [
    "## 6) Correction Stage (Optional): Gemini Rewriting via Vertex AI\n",
    "\n",
    "> **Note:** This section is intended for **Google Colab** with **Vertex AI** enabled.\n",
    "It rewrites articles predicted as **fake (label 0)** into factual alternatives using Gemini.\n",
    "\n",
    "**Steps to enable in Colab:**\n",
    "1. Runtime → Change runtime type → Python 3, enable GPU (optional)\n",
    "2. `pip install google-cloud-aiplatform google-generativeai vertexai`\n",
    "3. Set your **PROJECT_ID** and **LOCATION** (e.g., `us-central1`), ensure you have Vertex AI access\n",
    "4. Uncomment and run the cells below\n"
   ]
  },
  {
   "cell_type": "code",
   "execution_count": 8,
   "id": "bb1c919f",
   "metadata": {},
   "outputs": [
    {
     "name": "stdout",
     "output_type": "stream",
     "text": [
      "\u001b[33mWARNING: google-cloud-aiplatform 1.71.1 does not provide the extra 'all'\u001b[0m\u001b[33m\n",
      "\u001b[0m\u001b[33m  WARNING: The scripts pyrsa-decrypt, pyrsa-encrypt, pyrsa-keygen, pyrsa-priv2pub, pyrsa-sign and pyrsa-verify are installed in '/usr/local/python/3.12.1/bin' which is not on PATH.\n",
      "  Consider adding this directory to PATH or, if you prefer to suppress this warning, use --no-warn-script-location.\u001b[0m\u001b[33m\n",
      "\u001b[0m\u001b[33m  WARNING: The script tb-gcp-uploader is installed in '/usr/local/python/3.12.1/bin' which is not on PATH.\n",
      "  Consider adding this directory to PATH or, if you prefer to suppress this warning, use --no-warn-script-location.\u001b[0m\u001b[33m\n",
      "\u001b[0mNote: you may need to restart the kernel to use updated packages.\n"
     ]
    }
   ],
   "source": [
    "pip install -q google-cloud-aiplatform vertexai google-generativeai"
   ]
  },
  {
   "cell_type": "code",
   "execution_count": 11,
   "id": "fee62aa2",
   "metadata": {},
   "outputs": [
    {
     "data": {
      "text/html": [
       "<div>\n",
       "<style scoped>\n",
       "    .dataframe tbody tr th:only-of-type {\n",
       "        vertical-align: middle;\n",
       "    }\n",
       "\n",
       "    .dataframe tbody tr th {\n",
       "        vertical-align: top;\n",
       "    }\n",
       "\n",
       "    .dataframe thead th {\n",
       "        text-align: right;\n",
       "    }\n",
       "</style>\n",
       "<table border=\"1\" class=\"dataframe\">\n",
       "  <thead>\n",
       "    <tr style=\"text-align: right;\">\n",
       "      <th></th>\n",
       "      <th>original_excerpt</th>\n",
       "      <th>prediction</th>\n",
       "      <th>rewrite</th>\n",
       "    </tr>\n",
       "  </thead>\n",
       "  <tbody>\n",
       "    <tr>\n",
       "      <th>0</th>\n",
       "      <td>democrat underbelli expos control violenc erup...</td>\n",
       "      <td>0</td>\n",
       "      <td>[Gemini output placeholder] democrat underbell...</td>\n",
       "    </tr>\n",
       "    <tr>\n",
       "      <th>1</th>\n",
       "      <td>sander support readi rais hell dnc e mail leak...</td>\n",
       "      <td>0</td>\n",
       "      <td>[Gemini output placeholder] sander support rea...</td>\n",
       "    </tr>\n",
       "    <tr>\n",
       "      <th>2</th>\n",
       "      <td>video obama lectur iran everyth chant death am...</td>\n",
       "      <td>0</td>\n",
       "      <td>[Gemini output placeholder] video obama lectur...</td>\n",
       "    </tr>\n",
       "    <tr>\n",
       "      <th>3</th>\n",
       "      <td>obamacar dog might better healthcar simon blac...</td>\n",
       "      <td>0</td>\n",
       "      <td>[Gemini output placeholder] obamacar dog might...</td>\n",
       "    </tr>\n",
       "    <tr>\n",
       "      <th>4</th>\n",
       "      <td>race obsess vester flanagan aka bryce william ...</td>\n",
       "      <td>0</td>\n",
       "      <td>[Gemini output placeholder] race obsess vester...</td>\n",
       "    </tr>\n",
       "  </tbody>\n",
       "</table>\n",
       "</div>"
      ],
      "text/plain": [
       "                                    original_excerpt  prediction  \\\n",
       "0  democrat underbelli expos control violenc erup...           0   \n",
       "1  sander support readi rais hell dnc e mail leak...           0   \n",
       "2  video obama lectur iran everyth chant death am...           0   \n",
       "3  obamacar dog might better healthcar simon blac...           0   \n",
       "4  race obsess vester flanagan aka bryce william ...           0   \n",
       "\n",
       "                                             rewrite  \n",
       "0  [Gemini output placeholder] democrat underbell...  \n",
       "1  [Gemini output placeholder] sander support rea...  \n",
       "2  [Gemini output placeholder] video obama lectur...  \n",
       "3  [Gemini output placeholder] obamacar dog might...  \n",
       "4  [Gemini output placeholder] race obsess vester...  "
      ]
     },
     "execution_count": 11,
     "metadata": {},
     "output_type": "execute_result"
    }
   ],
   "source": [
    "# --- Uncomment when running in Colab/Vertex AI ---\n",
    "# !pip install -q google-cloud-aiplatform vertexai google-generativeai\n",
    "\n",
    "# from google.cloud import aiplatform\n",
    "# import vertexai\n",
    "# from vertexai.generative_models import GenerativeModel\n",
    "\n",
    "# PROJECT_ID = \"YOUR_GCP_PROJECT\"\n",
    "# LOCATION = \"us-central1\"\n",
    "\n",
    "# vertexai.init(project=PROJECT_ID, location=LOCATION)\n",
    "# model = GenerativeModel(\"gemini-1.5-pro\")\n",
    "\n",
    "def build_rewrite_prompt(text):\n",
    "    return (\n",
    "        \"Rewrite the following news article truthfully and concisely, removing any misinformation. \"\n",
    "        \"If facts are uncertain, say so and suggest reliable sources for verification. \"\n",
    "        \"Keep a neutral, journalistic tone.\\n\\n\"\n",
    "        f\"ARTICLE:\\n{text}\"\n",
    "    )\n",
    "\n",
    "def rewrite_with_gemini_batch(texts, batch_size=5):\n",
    "    \"\"\"Placeholder batch interface.\n",
    "\n",
    "    If running with Vertex AI, replace the body with model.generate_content calls.\n",
    "    Returns list[str] of rewritten texts with same length as `texts`.\n",
    "    \"\"\"\n",
    "    outputs = []\n",
    "    for t in texts:\n",
    "        # Uncomment when using Vertex AI:\n",
    "        # prompt = build_rewrite_prompt(t)\n",
    "        # resp = model.generate_content(prompt)\n",
    "        # outputs.append(resp.text if hasattr(resp, \"text\") else str(resp))\n",
    "        outputs.append(\"[Gemini output placeholder] \" + t[:280] + (\"...\" if len(t) > 280 else \"\"))\n",
    "    return outputs\n",
    "\n",
    "# Example workflow (safe to run without Vertex AI; will produce placeholders):\n",
    "pred_fake_idx = np.where(y_pred == 0)[0]\n",
    "sample_idx = pred_fake_idx[:5]  # take a small sample\n",
    "sample_texts = list(X_test.iloc[sample_idx]) if hasattr(X_test, \"iloc\") else []\n",
    "rewrites = rewrite_with_gemini_batch(sample_texts)\n",
    "\n",
    "examples = []\n",
    "for i, idx in enumerate(sample_idx):\n",
    "    examples.append({\n",
    "        \"original_excerpt\": sample_texts[i][:300] + (\"...\" if len(sample_texts[i]) > 300 else \"\"),\n",
    "        \"prediction\": int(y_pred[idx]),\n",
    "        \"rewrite\": rewrites[i]\n",
    "    })\n",
    "\n",
    "pd.DataFrame(examples)"
   ]
  },
  {
   "cell_type": "markdown",
   "id": "6f39b4a5",
   "metadata": {},
   "source": [
    "## 7) Save Artifacts"
   ]
  },
  {
   "cell_type": "code",
   "execution_count": 14,
   "id": "220328b2",
   "metadata": {},
   "outputs": [
    {
     "data": {
      "text/plain": [
       "'/workspaces/DS510-Team-Project/news_combined_clean.csv'"
      ]
     },
     "execution_count": 14,
     "metadata": {},
     "output_type": "execute_result"
    }
   ],
   "source": [
    "OUTPUT_DIR = \"/workspaces/DS510-Team-Project/Outputs\"\n",
    "os.makedirs(OUTPUT_DIR, exist_ok=True)\n",
    "\n",
    "# Save vectorizer and model if needed\n",
    "import joblib\n",
    "joblib.dump(model.named_steps['tfidfvectorizer'], os.path.join(OUTPUT_DIR, \"tfidf_vectorizer.joblib\"))\n",
    "joblib.dump(model.named_steps['logisticregression'], os.path.join(OUTPUT_DIR, \"logreg_model.joblib\"))\n",
    "\n",
    "# Save a combined CSV for convenience\n",
    "combined_path = os.path.join(OUTPUT_DIR, \"/workspaces/DS510-Team-Project/news_combined_clean.csv\")\n",
    "df_out = df[[\"title\",\"text\",\"subject\",\"date\",\"label\",\"body\",\"body_clean\"]].copy()\n",
    "df_out.to_csv(combined_path, index=False)\n",
    "combined_path"
   ]
  },
  {
   "cell_type": "markdown",
   "id": "a28a8698",
   "metadata": {},
   "source": [
    "## 8) Next Steps\n",
    "- Add alternative baselines (e.g., **LinearSVC**, **RandomForestClassifier**) and compare metrics\n",
    "- Try transformer embeddings (e.g., **BERT**) for semantic signal\n",
    "- Introduce **cross-dataset validation** (e.g., LIAR, PolitiFact) to reduce overfitting risk\n",
    "- Integrate **fact-check APIs** to validate Gemini rewrites\n",
    "- Add **ethics** & **risk** guardrails (bias, hallucinations, provenance)\n"
   ]
  },
  {
   "cell_type": "markdown",
   "id": "4ad6bf41",
   "metadata": {},
   "source": [
    "## 9) Export Corrections for the Web UI (Streamlit)\n",
    "\n",
    "This section creates a `corrections.csv` file that the Streamlit UI will read and display\n",
    "in GitHub Codespaces. It includes article metadata, the model's prediction,\n",
    "and the corrected text."
   ]
  },
  {
   "cell_type": "code",
   "execution_count": null,
   "id": "2feb566b",
   "metadata": {},
   "outputs": [],
   "source": [
    "from pathlib import Path\n",
    "import pandas as pd\n",
    "import numpy as np\n",
    "\n",
    "OUTPUTS = Path(\"/workspaces/DS510-Team-Project/Outputs\")\n",
    "OUTPUTS.mkdir(parents=True, exist_ok=True)\n",
    "\n",
    "# Export a sample from the test set for the UI\n",
    "export_rows = min(200, X_test.shape[0]) if hasattr(X_test, \"shape\") else 0\n",
    "ui_df = pd.DataFrame({\n",
    "    \"title\": df.loc[X_test.index, \"title\"].values[:export_rows],\n",
    "    \"subject\": df.loc[X_test.index, \"subject\"].values[:export_rows] if \"subject\" in df.columns else [\"\"]*export_rows,\n",
    "    \"date\": df.loc[X_test.index, \"date\"].values[:export_rows] if \"date\" in df.columns else [\"\"]*export_rows,\n",
    "    \"original_text\": df.loc[X_test.index, \"body\"].values[:export_rows],\n",
    "    \"prediction\": y_pred[:export_rows],\n",
    "})\n",
    "\n",
    "# Generate rewrites (Gemini or placeholder)\n",
    "rewrites_ui = rewrite_with_gemini_batch(list(ui_df[\"original_text\"].values))\n",
    "ui_df[\"corrected_text\"] = rewrites_ui[:export_rows]\n",
    "\n",
    "# Save for the UI\n",
    "corrections_csv = OUTPUTS / \"corrections.csv\"\n",
    "ui_df.to_csv(corrections_csv, index=False)\n",
    "print(\"Saved:\", corrections_csv)\n",
    "ui_df.head(3)"
   ]
  }
 ],
 "metadata": {
  "kernelspec": {
   "display_name": "Python 3",
   "language": "python",
   "name": "python3"
  },
  "language_info": {
   "codemirror_mode": {
    "name": "ipython",
    "version": 3
   },
   "file_extension": ".py",
   "mimetype": "text/x-python",
   "name": "python",
   "nbconvert_exporter": "python",
   "pygments_lexer": "ipython3",
   "version": "3.12.1"
  }
 },
 "nbformat": 4,
 "nbformat_minor": 5
}
